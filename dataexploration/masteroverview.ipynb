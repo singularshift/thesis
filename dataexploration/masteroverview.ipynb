{
 "cells": [
  {
   "cell_type": "code",
   "execution_count": 1,
   "metadata": {},
   "outputs": [],
   "source": [
    "import pandas as pd\n",
    "import numpy as np\n",
    "import matplotlib.pyplot as plt\n",
    "import seaborn as sns\n"
   ]
  },
  {
   "cell_type": "code",
   "execution_count": 4,
   "metadata": {},
   "outputs": [],
   "source": [
    "df = pd.read_csv('/Users/juliuswalkenhorst/masterthesis/csvfileselection/electionmaster.csv')"
   ]
  },
  {
   "cell_type": "code",
   "execution_count": 5,
   "metadata": {},
   "outputs": [
    {
     "name": "stdout",
     "output_type": "stream",
     "text": [
      "                                        buyer   buyerPaid  \\\n",
      "0  0xd452e98ba788bc043e582192252560c53da6e62f  526.839998   \n",
      "1  0x386ab2c355d0baa70acaec3c97628643cda029a5  499.999999   \n",
      "2  0x4e56f1ddaa8f5328036c449b89e731ec748cdee1   14.352100   \n",
      "3  0x4e56f1ddaa8f5328036c449b89e731ec748cdee1  295.800000   \n",
      "4  0xbd0e67d902fd2e8457bd252baaf83365ec4bc396  724.200000   \n",
      "\n",
      "                                         evt_tx_hash  sharesBought  \\\n",
      "0  0x49769c2193f6805b7c351657fb5c76a5212971c77206...    810.523075   \n",
      "1  0x8bbe7acea942191bb817230a113194b11bc5b18ca4e3...    769.230768   \n",
      "2  0xb0aec781731c11321254a30530e05ae29da8afb5e474...     49.490000   \n",
      "3  0x2551582a6d7bc6db6a866a76c5a5758b8e440f5677dd...   1020.000000   \n",
      "4  0x2551582a6d7bc6db6a866a76c5a5758b8e440f5677dd...   1020.000000   \n",
      "\n",
      "                 sharesType  \\\n",
      "0          Trump Wins - YES   \n",
      "1          Trump Wins - YES   \n",
      "2  Kamala Harris Wins - YES   \n",
      "3  Kamala Harris Wins - YES   \n",
      "4   Kamala Harris Wins - NO   \n",
      "\n",
      "                                        takerAssetID  \\\n",
      "0  2174263314346390629056905015582624153306727273...   \n",
      "1  2174263314346390629056905015582624153306727273...   \n",
      "2  6923692362007769102708394687114864697201113146...   \n",
      "3  6923692362007769102708394687114864697201113146...   \n",
      "4  8758495535924524640495212808245189728777857124...   \n",
      "\n",
      "                          time    label  probabilities  \n",
      "0  2024-07-22 15:29:21.000 UTC  4907168           0.65  \n",
      "1  2024-07-22 15:28:43.000 UTC  4907168           0.65  \n",
      "2  2024-07-22 15:28:29.000 UTC  4907168           0.29  \n",
      "3  2024-07-22 15:26:37.000 UTC  4907168           0.29  \n",
      "4  2024-07-22 15:26:37.000 UTC  4907168           0.71  \n",
      "<class 'pandas.core.frame.DataFrame'>\n",
      "RangeIndex: 296138 entries, 0 to 296137\n",
      "Data columns (total 9 columns):\n",
      " #   Column         Non-Null Count   Dtype  \n",
      "---  ------         --------------   -----  \n",
      " 0   buyer          296138 non-null  object \n",
      " 1   buyerPaid      296138 non-null  float64\n",
      " 2   evt_tx_hash    296138 non-null  object \n",
      " 3   sharesBought   296138 non-null  float64\n",
      " 4   sharesType     296138 non-null  object \n",
      " 5   takerAssetID   296138 non-null  object \n",
      " 6   time           296138 non-null  object \n",
      " 7   label          296138 non-null  int64  \n",
      " 8   probabilities  296138 non-null  float64\n",
      "dtypes: float64(3), int64(1), object(5)\n",
      "memory usage: 20.3+ MB\n",
      "None\n",
      "          buyerPaid  sharesBought         label  probabilities\n",
      "count  2.961380e+05  2.961380e+05  2.961380e+05  296138.000000\n",
      "mean   8.725782e+02  2.144078e+03  4.907202e+06       0.496073\n",
      "std    1.001965e+04  1.887742e+04  1.541668e+01       0.216804\n",
      "min    2.000000e-05  1.828000e-03  4.907159e+06       0.001000\n",
      "25%    7.784140e+00  1.415000e+01  4.907193e+06       0.381000\n",
      "50%    5.000000e+01  1.279373e+02  4.907211e+06       0.499000\n",
      "75%    2.590000e+02  6.760300e+02  4.907211e+06       0.618000\n",
      "max    1.999294e+06  2.594297e+06  4.907211e+06       0.999000\n"
     ]
    }
   ],
   "source": [
    "# General overview of the data\n",
    "print(df.head())\n",
    "print(df.info())\n",
    "print(df.describe())"
   ]
  },
  {
   "cell_type": "code",
   "execution_count": 6,
   "metadata": {},
   "outputs": [
    {
     "name": "stdout",
     "output_type": "stream",
     "text": [
      "228\n",
      "buyer            0\n",
      "buyerPaid        0\n",
      "evt_tx_hash      0\n",
      "sharesBought     0\n",
      "sharesType       0\n",
      "takerAssetID     0\n",
      "time             0\n",
      "label            0\n",
      "probabilities    0\n",
      "dtype: int64\n",
      "          buyerPaid  sharesBought         label  probabilities\n",
      "count  2.961380e+05  2.961380e+05  2.961380e+05  296138.000000\n",
      "mean   8.725782e+02  2.144078e+03  4.907202e+06       0.496073\n",
      "std    1.001965e+04  1.887742e+04  1.541668e+01       0.216804\n",
      "min    2.000000e-05  1.828000e-03  4.907159e+06       0.001000\n",
      "25%    7.784140e+00  1.415000e+01  4.907193e+06       0.381000\n",
      "50%    5.000000e+01  1.279373e+02  4.907211e+06       0.499000\n",
      "75%    2.590000e+02  6.760300e+02  4.907211e+06       0.618000\n",
      "max    1.999294e+06  2.594297e+06  4.907211e+06       0.999000\n"
     ]
    }
   ],
   "source": [
    "# Checking for duplicates\n",
    "print(df.duplicated().sum())\n",
    "# Checking for missing values\n",
    "print(df.isnull().sum())\n",
    "# Checking for outliers\n",
    "print(df.describe())\n"
   ]
  },
  {
   "cell_type": "code",
   "execution_count": null,
   "metadata": {},
   "outputs": [],
   "source": []
  }
 ],
 "metadata": {
  "kernelspec": {
   "display_name": "Python 3",
   "language": "python",
   "name": "python3"
  },
  "language_info": {
   "codemirror_mode": {
    "name": "ipython",
    "version": 3
   },
   "file_extension": ".py",
   "mimetype": "text/x-python",
   "name": "python",
   "nbconvert_exporter": "python",
   "pygments_lexer": "ipython3",
   "version": "3.12.0"
  }
 },
 "nbformat": 4,
 "nbformat_minor": 2
}
