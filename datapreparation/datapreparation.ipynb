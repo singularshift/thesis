{
 "cells": [
  {
   "cell_type": "code",
   "execution_count": 1,
   "metadata": {},
   "outputs": [],
   "source": [
    "# Import necessary libraries\n",
    "import pandas as pd\n",
    "import numpy as np\n",
    "import matplotlib.pyplot as plt\n",
    "import seaborn as sns\n",
    "\n"
   ]
  },
  {
   "cell_type": "code",
   "execution_count": 4,
   "metadata": {},
   "outputs": [],
   "source": [
    "# Convert Hour - Minute Column from \"\"newsdata/Master Thesis - News Overview - Election News.csv\"\" the proper format\n",
    "\n",
    "# Load the news event CSV\n",
    "news_df = pd.read_csv(\"/Users/juliuswalkenhorst/masterthesis/newsdata/Master Thesis - News Overview - Election News.csv\")\n",
    "\n",
    "# Rename for convenience\n",
    "news_df = news_df.rename(columns={\"Hour - Minute (UTC)\": \"raw_event_time\"})\n",
    "\n",
    "# Clean up the a.m. / p.m. to AM / PM\n",
    "news_df[\"raw_event_time\"] = (\n",
    "    news_df[\"raw_event_time\"]\n",
    "    .str.replace(\"a.m.\", \"AM\", regex=False)\n",
    "    .str.replace(\"p.m.\", \"PM\", regex=False)\n",
    ")\n",
    "\n",
    "# Convert to datetime\n",
    "news_df[\"event_timestamp\"] = pd.to_datetime(\n",
    "    news_df[\"raw_event_time\"], \n",
    "    format=\"%I:%M %p on %B %d, %Y\"\n",
    ")"
   ]
  },
  {
   "cell_type": "code",
   "execution_count": 5,
   "metadata": {},
   "outputs": [
    {
     "name": "stdout",
     "output_type": "stream",
     "text": [
      "                                               Event                 Day  \\\n",
      "0                            Super Tuesday Primaries       March 5, 2024   \n",
      "1  Donald Trump found guilty in New York trial (3...        May 30, 2024   \n",
      "2  Trump survives sniper assassination attempt at...       July 13, 2024   \n",
      "3  Republican National Convention — Trump officia...  July 15 - 18, 2024   \n",
      "4   President Biden Withdraws from Presidential Race       July 21, 2024   \n",
      "\n",
      "                                        Link to News  Sentiment  \\\n",
      "0  https://vote.org/election-calendar/ (Super Tue...        NaN   \n",
      "1  https://www.nytimes.com/live/2024/05/30/nyregi...        NaN   \n",
      "2  https://abcnews.go.com/US/timeline-donald-trum...        NaN   \n",
      "3  https://www.cbsnews.com/news/rnc-roll-call-of-...        NaN   \n",
      "4  https://www.nytimes.com/live/2024/07/21/us/bid...        NaN   \n",
      "\n",
      "  Hour - Minute (EDT)            raw_event_time  \\\n",
      "0      11:00 p.m. EST  4:00 AM on March 6, 2024   \n",
      "1           4:55 p.m.   8:55 PM on May 30, 2024   \n",
      "2           1:31 p.m.  5:31 PM on July 13, 2024   \n",
      "3           1:15 p.m.  5:15 PM on July 15, 2024   \n",
      "4          11:00 a.m.  3:00 PM on July 21, 2024   \n",
      "\n",
      "                       Dune Script  CSV?     event_timestamp  \n",
      "0                               NaN  NaN 2024-03-06 04:00:00  \n",
      "1  https://dune.com/queries/4907159    Y 2024-05-30 20:55:00  \n",
      "2  https://dune.com/queries/4907162    Y 2024-07-13 17:31:00  \n",
      "3                               NaN  NaN 2024-07-15 17:15:00  \n",
      "4  https://dune.com/queries/4907165    Y 2024-07-21 15:00:00  \n"
     ]
    }
   ],
   "source": [
    "print(news_df.head())"
   ]
  },
  {
   "cell_type": "code",
   "execution_count": 8,
   "metadata": {},
   "outputs": [],
   "source": [
    "# Clean up column names (remove leading/trailing spaces)\n",
    "news_df.columns = news_df.columns.str.strip()\n"
   ]
  },
  {
   "cell_type": "code",
   "execution_count": 9,
   "metadata": {},
   "outputs": [],
   "source": [
    "# Create event_timestamp in electionmaster.csv\n",
    "election_df = pd.read_csv(\"/Users/juliuswalkenhorst/masterthesis/csvfileselection/electionmaster.csv\")\n",
    "\n",
    "# Extract label (Dune query ID) from the Dune URL\n",
    "news_df[\"label\"] = news_df[\"Dune Script\"].str.extract(r'(\\d+)$')\n",
    "\n",
    "# Make sure the label in both DataFrames is the same type (string)\n",
    "election_df[\"label\"] = election_df[\"label\"].astype(str)\n",
    "news_df[\"label\"] = news_df[\"label\"].astype(str)\n",
    "\n",
    "# Merge event_timestamp into the election_df using label\n",
    "merged_df = election_df.merge(\n",
    "    news_df[[\"label\", \"event_timestamp\"]],\n",
    "    on=\"label\",\n",
    "    how=\"left\"\n",
    ")"
   ]
  },
  {
   "cell_type": "code",
   "execution_count": 13,
   "metadata": {},
   "outputs": [
    {
     "name": "stdout",
     "output_type": "stream",
     "text": [
      "Index(['buyer', 'buyerPaid', 'evt_tx_hash', 'sharesBought', 'sharesType',\n",
      "       'takerAssetID', 'time', 'label', 'probabilities', 'event_timestamp'],\n",
      "      dtype='object')\n"
     ]
    }
   ],
   "source": [
    "print(merged_df.columns)"
   ]
  },
  {
   "cell_type": "code",
   "execution_count": 22,
   "metadata": {},
   "outputs": [
    {
     "name": "stdout",
     "output_type": "stream",
     "text": [
      "                          time     event_timestamp\n",
      "0  2024-07-22 15:29:21.000 UTC 2024-07-21 15:30:00\n",
      "1  2024-07-22 15:28:43.000 UTC 2024-07-21 15:30:00\n",
      "2  2024-07-22 15:28:29.000 UTC 2024-07-21 15:30:00\n",
      "3  2024-07-22 15:26:37.000 UTC 2024-07-21 15:30:00\n",
      "4  2024-07-22 15:26:37.000 UTC 2024-07-21 15:30:00\n"
     ]
    }
   ],
   "source": [
    "# Print the first 5 rows of merged_df time and event_timestamp\n",
    "print(merged_df[[\"time\", \"event_timestamp\"]].head())\n",
    "\n"
   ]
  },
  {
   "cell_type": "code",
   "execution_count": 25,
   "metadata": {},
   "outputs": [],
   "source": [
    "# Strip \" UTC\" if still present\n",
    "merged_df[\"time\"] = merged_df[\"time\"].str.replace(\" UTC\", \"\", regex=False)\n",
    "\n",
    "# Let pandas infer each format individually\n",
    "merged_df[\"time\"] = pd.to_datetime(merged_df[\"time\"], format='mixed', errors='coerce')\n",
    "\n",
    "# Just in case, ensure event_timestamp is parsed too\n",
    "merged_df[\"event_timestamp\"] = pd.to_datetime(merged_df[\"event_timestamp\"], errors='coerce')\n",
    "\n",
    "# Compute the time difference in minutes\n",
    "merged_df[\"minutes_from_event\"] = (\n",
    "    (merged_df[\"time\"] - merged_df[\"event_timestamp\"]).dt.total_seconds() / 60\n",
    ")\n"
   ]
  },
  {
   "cell_type": "code",
   "execution_count": 27,
   "metadata": {},
   "outputs": [
    {
     "name": "stdout",
     "output_type": "stream",
     "text": [
      "296118   -1432.966667\n",
      "296119   -1432.966667\n",
      "296120   -1432.966667\n",
      "296121   -1432.966667\n",
      "296122   -1432.966667\n",
      "296123   -1432.966667\n",
      "296124   -1432.966667\n",
      "296125   -1432.966667\n",
      "296126   -1435.133333\n",
      "296127   -1435.133333\n",
      "296128   -1435.300000\n",
      "296129   -1435.400000\n",
      "296130   -1435.400000\n",
      "296131   -1435.500000\n",
      "296132   -1435.500000\n",
      "296133   -1435.600000\n",
      "296134   -1435.633333\n",
      "296135   -1435.633333\n",
      "296136   -1440.000000\n",
      "296137   -1440.000000\n",
      "Name: minutes_from_event, dtype: float64\n"
     ]
    }
   ],
   "source": [
    "print(merged_df[\"minutes_from_event\"].tail(20))"
   ]
  },
  {
   "cell_type": "code",
   "execution_count": 28,
   "metadata": {},
   "outputs": [
    {
     "name": "stdout",
     "output_type": "stream",
     "text": [
      "0     0.650000\n",
      "1     0.650000\n",
      "2     0.290000\n",
      "3     0.290000\n",
      "4     0.710000\n",
      "5     0.284000\n",
      "6     0.283000\n",
      "7     0.292108\n",
      "8     0.284000\n",
      "9     0.283000\n",
      "10    0.717000\n",
      "11    0.284000\n",
      "12    0.283000\n",
      "13    0.283000\n",
      "14    0.290000\n",
      "15    0.284000\n",
      "16    0.714136\n",
      "17    0.290000\n",
      "18    0.710000\n",
      "19    0.360000\n",
      "Name: probabilities, dtype: float64\n"
     ]
    }
   ],
   "source": [
    "print(merged_df[\"probabilities\"].head(20))"
   ]
  },
  {
   "cell_type": "code",
   "execution_count": 29,
   "metadata": {},
   "outputs": [
    {
     "name": "stdout",
     "output_type": "stream",
     "text": [
      "Number of rows with NaT in minutes_from_event: 0\n"
     ]
    }
   ],
   "source": [
    "# Count how many rows have NaT in minutes_from_event\n",
    "num_nat_rows = merged_df[\"minutes_from_event\"].isna().sum()\n",
    "print(f\"Number of rows with NaT in minutes_from_event: {num_nat_rows}\")\n"
   ]
  },
  {
   "cell_type": "code",
   "execution_count": 30,
   "metadata": {},
   "outputs": [
    {
     "name": "stdout",
     "output_type": "stream",
     "text": [
      "Index(['buyer', 'buyerPaid', 'evt_tx_hash', 'sharesBought', 'sharesType',\n",
      "       'takerAssetID', 'time', 'label', 'probabilities', 'event_timestamp',\n",
      "       'minutes_from_event'],\n",
      "      dtype='object')\n"
     ]
    }
   ],
   "source": [
    "print(merged_df.columns)"
   ]
  },
  {
   "cell_type": "code",
   "execution_count": 31,
   "metadata": {},
   "outputs": [
    {
     "name": "stdout",
     "output_type": "stream",
     "text": [
      "['Trump Wins - YES' 'Kamala Harris Wins - YES' 'Kamala Harris Wins - NO'\n",
      " 'Trump Wins - NO' 'Biden Wins - YES' 'Biden Wins - NO']\n"
     ]
    }
   ],
   "source": [
    "print(merged_df[\"sharesType\"].unique())\n"
   ]
  },
  {
   "cell_type": "code",
   "execution_count": 33,
   "metadata": {},
   "outputs": [],
   "source": [
    "yes_df = merged_df[merged_df[\"sharesType\"].str.endswith(\"YES\")].copy()\n",
    "yes_df[\"candidate\"] = yes_df[\"sharesType\"].str.replace(\" Wins - YES\", \"\")"
   ]
  },
  {
   "cell_type": "code",
   "execution_count": 34,
   "metadata": {},
   "outputs": [],
   "source": [
    "resampled_dfs = []\n",
    "\n",
    "for (label, candidate), group in yes_df.groupby([\"label\", \"candidate\"]):\n",
    "    df = group.set_index(\"time\").sort_index()\n",
    "    df_resampled = df.resample(\"1min\").mean(numeric_only=True).reset_index()\n",
    "    df_resampled[\"label\"] = label\n",
    "    df_resampled[\"candidate\"] = candidate\n",
    "    resampled_dfs.append(df_resampled)\n",
    "\n",
    "# Combine all resampled results\n",
    "resampled_yes_df = pd.concat(resampled_dfs, ignore_index=True)\n"
   ]
  },
  {
   "cell_type": "code",
   "execution_count": 35,
   "metadata": {},
   "outputs": [],
   "source": [
    "# Save the resampled candidate-level probabilities\n",
    "resampled_yes_df.to_csv(\"resampled_yes_df.csv\", index=False)\n",
    "\n",
    "# Save the full merged dataset with event timestamps and minutes_from_event\n",
    "merged_df.to_csv(\"electionmastermerged.csv\", index=False)\n"
   ]
  }
 ],
 "metadata": {
  "kernelspec": {
   "display_name": "Python 3",
   "language": "python",
   "name": "python3"
  },
  "language_info": {
   "codemirror_mode": {
    "name": "ipython",
    "version": 3
   },
   "file_extension": ".py",
   "mimetype": "text/x-python",
   "name": "python",
   "nbconvert_exporter": "python",
   "pygments_lexer": "ipython3",
   "version": "3.12.0"
  }
 },
 "nbformat": 4,
 "nbformat_minor": 2
}
