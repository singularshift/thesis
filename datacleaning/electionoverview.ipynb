{
 "cells": [
  {
   "cell_type": "code",
   "execution_count": 1,
   "metadata": {},
   "outputs": [],
   "source": [
    "# This Script will give an overview of the data in the file electionmaster.csv\n",
    "\n",
    "import pandas as pd"
   ]
  },
  {
   "cell_type": "code",
   "execution_count": 6,
   "metadata": {},
   "outputs": [
    {
     "name": "stdout",
     "output_type": "stream",
     "text": [
      "                                        buyer   buyerPaid  \\\n",
      "0  0xd452e98ba788bc043e582192252560c53da6e62f  526.839998   \n",
      "1  0x386ab2c355d0baa70acaec3c97628643cda029a5  499.999999   \n",
      "2  0x4e56f1ddaa8f5328036c449b89e731ec748cdee1   14.352100   \n",
      "3  0x4e56f1ddaa8f5328036c449b89e731ec748cdee1  295.800000   \n",
      "4  0xbd0e67d902fd2e8457bd252baaf83365ec4bc396  724.200000   \n",
      "\n",
      "                                         evt_tx_hash  sharesBought  \\\n",
      "0  0x49769c2193f6805b7c351657fb5c76a5212971c77206...    810.523075   \n",
      "1  0x8bbe7acea942191bb817230a113194b11bc5b18ca4e3...    769.230768   \n",
      "2  0xb0aec781731c11321254a30530e05ae29da8afb5e474...     49.490000   \n",
      "3  0x2551582a6d7bc6db6a866a76c5a5758b8e440f5677dd...   1020.000000   \n",
      "4  0x2551582a6d7bc6db6a866a76c5a5758b8e440f5677dd...   1020.000000   \n",
      "\n",
      "                 sharesType  \\\n",
      "0          Trump Wins - YES   \n",
      "1          Trump Wins - YES   \n",
      "2  Kamala Harris Wins - YES   \n",
      "3  Kamala Harris Wins - YES   \n",
      "4   Kamala Harris Wins - NO   \n",
      "\n",
      "                                        takerAssetID  \\\n",
      "0  2174263314346390629056905015582624153306727273...   \n",
      "1  2174263314346390629056905015582624153306727273...   \n",
      "2  6923692362007769102708394687114864697201113146...   \n",
      "3  6923692362007769102708394687114864697201113146...   \n",
      "4  8758495535924524640495212808245189728777857124...   \n",
      "\n",
      "                          time    label  probabilities  \n",
      "0  2024-07-22 15:29:21.000 UTC  4907168           0.65  \n",
      "1  2024-07-22 15:28:43.000 UTC  4907168           0.65  \n",
      "2  2024-07-22 15:28:29.000 UTC  4907168           0.29  \n",
      "3  2024-07-22 15:26:37.000 UTC  4907168           0.29  \n",
      "4  2024-07-22 15:26:37.000 UTC  4907168           0.71  \n",
      "                                             buyer   buyerPaid  \\\n",
      "296133  0x1f2dd6d473f3e824cd2f8a89d9c69fb96f6ad0cf  121.610340   \n",
      "296134  0x53436ee453b0399ef1ca71a14a0eb49ba69a408e   19.999999   \n",
      "296135  0x8de426b20d51ca0c40a2fafe2ec4065ada0cb516   17.313432   \n",
      "296136  0xfbfd14dd4bb607373119de95f1d4b21c3b6c0029  178.363740   \n",
      "296137  0x22f9cc2fea0b9fb8540502b7ef11d0acedf3705e  196.349999   \n",
      "\n",
      "                                              evt_tx_hash  sharesBought  \\\n",
      "296133  0x58cb6c50dec3e74c7bab6a6a97a71877c400d32f167f...    232.970000   \n",
      "296134  0x4d07c124b952bfe8d34559e44084a6792e65d59fc35b...     37.313431   \n",
      "296135  0x4d07c124b952bfe8d34559e44084a6792e65d59fc35b...     37.313431   \n",
      "296136  0xad182d820ceac9197615d80a1e711f31ae8e751e5359...    374.713739   \n",
      "296137  0xad182d820ceac9197615d80a1e711f31ae8e751e5359...    374.713739   \n",
      "\n",
      "                      sharesType  \\\n",
      "296133          Trump Wins - YES   \n",
      "296134   Kamala Harris Wins - NO   \n",
      "296135  Kamala Harris Wins - YES   \n",
      "296136           Trump Wins - NO   \n",
      "296137          Trump Wins - YES   \n",
      "\n",
      "                                             takerAssetID  \\\n",
      "296133  2174263314346390629056905015582624153306727273...   \n",
      "296134  8758495535924524640495212808245189728777857124...   \n",
      "296135  6923692362007769102708394687114864697201113146...   \n",
      "296136  4833104333661288389093875950949315923475504897...   \n",
      "296137  2174263314346390629056905015582624153306727273...   \n",
      "\n",
      "                       time    label  probabilities  \n",
      "296133  2024-08-22 01:04:24  4907172          0.522  \n",
      "296134  2024-08-22 01:04:22  4907172          0.536  \n",
      "296135  2024-08-22 01:04:22  4907172          0.464  \n",
      "296136  2024-08-22 01:00:00  4907172          0.476  \n",
      "296137  2024-08-22 01:00:00  4907172          0.524  \n",
      "(296138, 9)\n",
      "Index(['buyer', 'buyerPaid', 'evt_tx_hash', 'sharesBought', 'sharesType',\n",
      "       'takerAssetID', 'time', 'label', 'probabilities'],\n",
      "      dtype='object')\n"
     ]
    }
   ],
   "source": [
    "# Load the data\n",
    "df = pd.read_csv('/Users/juliuswalkenhorst/masterthesis/csvfileselection/electionmaster.csv')\n",
    "\n",
    "# Print the first 5 rows of the dataframe\n",
    "print(df.head())\n",
    "\n",
    "# Print the last 5 rows of the dataframe\n",
    "print(df.tail())\n",
    "\n",
    "# Print the shape of the dataframe\n",
    "print(df.shape)\n",
    "\n",
    "# Print the column names\n",
    "print(df.columns)"
   ]
  },
  {
   "cell_type": "code",
   "execution_count": 7,
   "metadata": {},
   "outputs": [
    {
     "name": "stdout",
     "output_type": "stream",
     "text": [
      "buyer             object\n",
      "buyerPaid        float64\n",
      "evt_tx_hash       object\n",
      "sharesBought     float64\n",
      "sharesType        object\n",
      "takerAssetID      object\n",
      "time              object\n",
      "label              int64\n",
      "probabilities    float64\n",
      "dtype: object\n",
      "          buyerPaid  sharesBought         label  probabilities\n",
      "count  2.961380e+05  2.961380e+05  2.961380e+05  296138.000000\n",
      "mean   8.725782e+02  2.144078e+03  4.907202e+06       0.496073\n",
      "std    1.001965e+04  1.887742e+04  1.541668e+01       0.216804\n",
      "min    2.000000e-05  1.828000e-03  4.907159e+06       0.001000\n",
      "25%    7.784140e+00  1.415000e+01  4.907193e+06       0.381000\n",
      "50%    5.000000e+01  1.279373e+02  4.907211e+06       0.499000\n",
      "75%    2.590000e+02  6.760300e+02  4.907211e+06       0.618000\n",
      "max    1.999294e+06  2.594297e+06  4.907211e+06       0.999000\n"
     ]
    }
   ],
   "source": [
    "# Now I want to print the data types of the columns\n",
    "print(df.dtypes)\n",
    "\n",
    "# Now I want to print the summary of the dataframe\n",
    "print(df.describe())\n",
    "\n"
   ]
  },
  {
   "cell_type": "code",
   "execution_count": 8,
   "metadata": {},
   "outputs": [
    {
     "name": "stdout",
     "output_type": "stream",
     "text": [
      "buyer             46951\n",
      "buyerPaid        152344\n",
      "evt_tx_hash      180197\n",
      "sharesBought      97564\n",
      "sharesType            6\n",
      "takerAssetID          6\n",
      "time              81675\n",
      "label                10\n",
      "probabilities     73061\n",
      "dtype: int64\n",
      "buyer            0\n",
      "buyerPaid        0\n",
      "evt_tx_hash      0\n",
      "sharesBought     0\n",
      "sharesType       0\n",
      "takerAssetID     0\n",
      "time             0\n",
      "label            0\n",
      "probabilities    0\n",
      "dtype: int64\n"
     ]
    }
   ],
   "source": [
    "# Now I want to print the number of unique values in each column\n",
    "print(df.nunique())\n",
    "\n",
    "# Now I want to print the number of missing values in each column\n",
    "print(df.isnull().sum())\n",
    "\n"
   ]
  }
 ],
 "metadata": {
  "kernelspec": {
   "display_name": "Python 3",
   "language": "python",
   "name": "python3"
  },
  "language_info": {
   "codemirror_mode": {
    "name": "ipython",
    "version": 3
   },
   "file_extension": ".py",
   "mimetype": "text/x-python",
   "name": "python",
   "nbconvert_exporter": "python",
   "pygments_lexer": "ipython3",
   "version": "3.12.0"
  }
 },
 "nbformat": 4,
 "nbformat_minor": 2
}
